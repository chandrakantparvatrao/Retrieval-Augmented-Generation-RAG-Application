{
 "cells": [
  {
   "cell_type": "code",
   "execution_count": 40,
   "id": "2457e4fb",
   "metadata": {},
   "outputs": [],
   "source": [
    "from PyPDF2 import PdfReader\n",
    "from langchain_text_splitters import RecursiveCharacterTextSplitter\n",
    "import chromadb\n",
    "from groq import Groq\n"
   ]
  },
  {
   "cell_type": "code",
   "execution_count": 2,
   "id": "457bd259",
   "metadata": {},
   "outputs": [],
   "source": [
    "reader = PdfReader(\"../datasets/budget_speech.pdf\")\n",
    "number_of_pages = len(reader.pages)\n"
   ]
  },
  {
   "cell_type": "code",
   "execution_count": 4,
   "id": "25dfa25a",
   "metadata": {},
   "outputs": [],
   "source": [
    "book = ''\n",
    "for page in reader.pages:\n",
    "    text = page.extract_text()\n",
    "    book = book + text"
   ]
  },
  {
   "cell_type": "code",
   "execution_count": 14,
   "id": "bc1f22d6",
   "metadata": {},
   "outputs": [],
   "source": [
    "text_splitter = RecursiveCharacterTextSplitter(\n",
    "    chunk_size=1000,\n",
    "    chunk_overlap=200,\n",
    "    length_function=len,\n",
    "    is_separator_regex=False,\n",
    ")\n",
    "texts = text_splitter.create_documents([book])"
   ]
  },
  {
   "cell_type": "code",
   "execution_count": 16,
   "id": "095becfb",
   "metadata": {},
   "outputs": [],
   "source": [
    "chunks = [d.page_content for d in texts]"
   ]
  },
  {
   "cell_type": "code",
   "execution_count": 20,
   "id": "acb293c9",
   "metadata": {},
   "outputs": [],
   "source": [
    "client = chromadb.Client()\n",
    "collection = client.create_collection(name = 'collection1')\n"
   ]
  },
  {
   "cell_type": "code",
   "execution_count": 21,
   "id": "8549981a",
   "metadata": {},
   "outputs": [],
   "source": [
    "ids = [str(i) for i in range (len(chunks))]\n",
    "collection.add(documents = chunks, ids = ids)"
   ]
  },
  {
   "cell_type": "code",
   "execution_count": 73,
   "id": "e333645e",
   "metadata": {},
   "outputs": [],
   "source": [
    "query = 'What is custom duty rate changes made in Preciuos Metals like Platinum findings.'\n",
    "results = collection.query(query_texts=[query],n_results=3)\n",
    "context = ' '.join(results['documents'][0])"
   ]
  },
  {
   "cell_type": "code",
   "execution_count": 74,
   "id": "cddffbfc",
   "metadata": {},
   "outputs": [],
   "source": [
    "# print(context)\n",
    "prompt = '''Act as an AI assistant for question answering system.\n",
    "All information with respect to question will be provided and question will also be provided.\n",
    "You find out the exact answer of question in provided information and give answer in proper language.\n",
    "If you don't get the answer from provided information , just say \"No information found in given Context\".\n",
    "Information : {}\n",
    "Question: {}'''.format(context, query)"
   ]
  },
  {
   "cell_type": "code",
   "execution_count": 38,
   "id": "f1e41d36",
   "metadata": {},
   "outputs": [],
   "source": [
    "# print(prompt)"
   ]
  },
  {
   "cell_type": "code",
   "execution_count": 57,
   "id": "66bba540",
   "metadata": {},
   "outputs": [],
   "source": [
    "\n",
    "client = Groq(\n",
    "    api_key='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',\n",
    ")\n",
    "\n"
   ]
  },
  {
   "cell_type": "code",
   "execution_count": 75,
   "id": "57d609ce",
   "metadata": {},
   "outputs": [],
   "source": [
    "chat_completion = client.chat.completions.create(\n",
    "    messages=[\n",
    "        {\n",
    "            \"role\": \"user\",\n",
    "            \"content\": prompt,\n",
    "        }\n",
    "    ],\n",
    "    model=\"llama-3.3-70b-versatile\",\n",
    ")\n",
    "answer = chat_completion.choices[0].message.content"
   ]
  },
  {
   "cell_type": "code",
   "execution_count": 76,
   "id": "95990fe8",
   "metadata": {},
   "outputs": [
    {
     "name": "stdout",
     "output_type": "stream",
     "text": [
      "No information found in given Context. The information provided does not mention any changes to the custom duty rate for precious metals like platinum findings. It only mentions changes to duty rates for various other commodities such as crust leather, handicrafts, laboratory chemicals, and articles of jewelry, but does not specifically mention platinum findings.\n"
     ]
    }
   ],
   "source": [
    "print(answer)"
   ]
  },
  {
   "cell_type": "code",
   "execution_count": null,
   "id": "b2c6b22d",
   "metadata": {},
   "outputs": [],
   "source": []
  }
 ],
 "metadata": {
  "kernelspec": {
   "display_name": "llmjune25",
   "language": "python",
   "name": "python3"
  },
  "language_info": {
   "codemirror_mode": {
    "name": "ipython",
    "version": 3
   },
   "file_extension": ".py",
   "mimetype": "text/x-python",
   "name": "python",
   "nbconvert_exporter": "python",
   "pygments_lexer": "ipython3",
   "version": "3.12.0"
  }
 },
 "nbformat": 4,
 "nbformat_minor": 5
}
